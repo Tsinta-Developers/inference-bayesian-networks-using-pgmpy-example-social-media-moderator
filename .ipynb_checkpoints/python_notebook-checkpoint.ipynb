{
 "cells": [
  {
   "cell_type": "markdown",
   "metadata": {},
   "source": [
    "In this quick notebook, we will be dicussing Bayesian Statisitcs over Bayesian Networks and Inferencing them using Pgmpy Python library.\n",
    "Bayesian statistics is a theory in the field of statistics based on the Bayesian interpretation of probability where probability expresses a degree of belief in an event, which can change as new information is gathered, rather than a fixed value based upon frequency or propensity.Bayesian statistical methods use Bayes' theorem to compute and update probabilities after obtaining new data. Bayes' theorem describes the conditional probability of an event based on data as well as prior information or beliefs about the event or conditions related to the event.\n",
    "\n",
    "\n",
    "\n"
   ]
  },
  {
   "cell_type": "markdown",
   "metadata": {},
   "source": [
    "# Bayes' theorem\n",
    "Bayes' theorem is a fundamental theorem in Bayesian statistics, as it is used by Bayesian methods to update probabilities, which are degrees of belief, after obtaining new data. Given two events A and B, the conditional probability of A given that B is true is expressed as follows:\n",
    "<image>\n",
    "\n",
    "The probability of the evidence {\\displaystyle P(B)} P(B) can be calculated using the law of total probability. If {\\displaystyle \\{A_{1},A_{2},\\dots ,A_{n}\\}} {\\displaystyle \\{A_{1},A_{2},\\dots ,A_{n}\\}} is a partition of the sample space, which is the set of all outcomes of an experiment, then:\n",
    "<image>\n",
    "\n"
   ]
  },
  {
   "cell_type": "markdown",
   "metadata": {},
   "source": [
    "# Bayesian network\n",
    "A Bayesian network is a probabilistic graphical model (a type of statistical model) that represents a set of variables and their conditional dependencies via a directed acyclic graph (DAG). Bayesian networks are ideal for taking an event that occurred and predicting the likelihood that any one of several possible known causes was the contributing factor. \n",
    "\n",
    "\n"
   ]
  },
  {
   "cell_type": "markdown",
   "metadata": {},
   "source": [
    "# Example\n",
    "### Statistical moderator for social platform with a given information such as user history, ML model prediction, other user flagging the content, etc\n",
    "We can use bayes rule and total probability theorem to infer probabilites in a bayes network. Lets take an example:\n",
    "\n",
    "Example\n",
    "Lets consider an example, where a social media website wish to moderate content on the site and suspends bad user accounts. For this they would like us to create a statistical moderator that can take the preemtive measure based on information given. Lets assume we have following information:\n",
    "* M : A prediction from a ML model that can read the content and give a score (probability) that this content should be flagged.\n",
    "* U :  Another User flags the content.\n",
    "* B : The account was suspended before for any bad content.\n",
    "* R : Score (Probability) that the content should be removed from the platform.\n",
    "* S : Score (Probability) that account should be suspended\n",
    "\n",
    "Lets assume probabilities are given to us for the network as follows:\n",
    "<image>\n",
    "<image prob>\n",
    "\n"
   ]
  },
  {
   "cell_type": "markdown",
   "metadata": {},
   "source": [
    "Lets create this bayes network in python using pgmpy library https://github.com/pgmpy/pgmpy . "
   ]
  },
  {
   "cell_type": "code",
   "execution_count": 20,
   "metadata": {},
   "outputs": [
    {
     "name": "stdout",
     "output_type": "stream",
     "text": [
      "Requirement already satisfied: pgmpy in /anaconda3/lib/python3.7/site-packages (0.1.7)\r\n",
      "Requirement already satisfied: networkx<1.12,>=1.11 in /anaconda3/lib/python3.7/site-packages (from pgmpy) (1.11)\r\n",
      "Requirement already satisfied: scipy>=1.0.0 in /anaconda3/lib/python3.7/site-packages (from pgmpy) (1.2.1)\r\n",
      "Requirement already satisfied: numpy>=1.14.0 in /anaconda3/lib/python3.7/site-packages (from pgmpy) (1.16.2)\r\n",
      "Requirement already satisfied: decorator>=3.4.0 in /anaconda3/lib/python3.7/site-packages (from networkx<1.12,>=1.11->pgmpy) (4.4.0)\r\n"
     ]
    }
   ],
   "source": [
    "!pip install pgmpy"
   ]
  },
  {
   "cell_type": "code",
   "execution_count": 21,
   "metadata": {},
   "outputs": [],
   "source": [
    "from pgmpy.models import BayesianModel\n",
    "from pgmpy.factors.discrete import TabularCPD\n",
    "from pgmpy.inference import VariableElimination\n",
    "import numpy as np"
   ]
  },
  {
   "cell_type": "code",
   "execution_count": 22,
   "metadata": {},
   "outputs": [],
   "source": [
    "bayesNet = BayesianModel()\n",
    "bayesNet.add_node(\"M\")\n",
    "bayesNet.add_node(\"U\")\n",
    "bayesNet.add_node(\"R\")\n",
    "bayesNet.add_node(\"B\")\n",
    "bayesNet.add_node(\"S\")\n",
    "\n",
    "bayesNet.add_edge(\"M\", \"R\")\n",
    "bayesNet.add_edge(\"U\", \"R\")\n",
    "bayesNet.add_edge(\"B\", \"R\")\n",
    "bayesNet.add_edge(\"B\", \"S\")\n",
    "bayesNet.add_edge(\"R\", \"S\")"
   ]
  },
  {
   "cell_type": "markdown",
   "metadata": {},
   "source": [
    "Adding CPDs for each node. A quick note is that while adding proabilities, we have to give FALSE values first."
   ]
  },
  {
   "cell_type": "code",
   "execution_count": 23,
   "metadata": {},
   "outputs": [],
   "source": [
    "cpd_A = TabularCPD('M', 2, values=[[.95], [.05]])\n",
    "cpd_U = TabularCPD('U', 2, values=[[.85], [.15]])\n",
    "cpd_H = TabularCPD('B', 2, values=[[.90], [.10]])\n",
    "\n",
    "cpd_S = TabularCPD('S', 2, values=[[0.98, .88, .95, .6], [.02, .12, .05, .40]],\n",
    "                   evidence=['R', 'B'], evidence_card=[2, 2])\n",
    "\n",
    "cpd_R = TabularCPD('R', 2,\n",
    "                   values=[[0.96, .86, .94, .82, .24, .15, .10, .05], [.04, .14, .06, .18, .76, .85, .90, .95]],\n",
    "                   evidence=['M', 'B', 'U'], evidence_card=[2, 2,2])\n",
    "bayesNet.add_cpds(cpd_A, cpd_U, cpd_H, cpd_S, cpd_R)"
   ]
  },
  {
   "cell_type": "markdown",
   "metadata": {},
   "source": [
    "Checking if model is correctly added."
   ]
  },
  {
   "cell_type": "code",
   "execution_count": 25,
   "metadata": {},
   "outputs": [
    {
     "name": "stdout",
     "output_type": "stream",
     "text": [
      "Model is correct.\n"
     ]
    }
   ],
   "source": [
    "bayesNet.check_model()\n",
    "print(\"Model is correct.\")"
   ]
  },
  {
   "cell_type": "markdown",
   "metadata": {},
   "source": [
    "Creating solver that uses variable elimination internally for inference."
   ]
  },
  {
   "cell_type": "code",
   "execution_count": 26,
   "metadata": {},
   "outputs": [],
   "source": [
    "solver = VariableElimination(bayesNet)"
   ]
  },
  {
   "cell_type": "markdown",
   "metadata": {},
   "source": [
    "Lets take some examples. For cross verification, we will be doing inference manually also using Bayes Theorem and Total Probability theorem."
   ]
  },
  {
   "cell_type": "markdown",
   "metadata": {},
   "source": [
    "1. Lets find proability of \"Content should be removed from the platform\""
   ]
  },
  {
   "cell_type": "markdown",
   "metadata": {},
   "source": [
    "```\n",
    "P(R) \n",
    "=P(R|MBU)*P(M)*P(B)*P(U)+P(R|MBU)*P(M)*P(B)*P(!U)+P(R|MBU)*P(M)*P(!B)*P(U)\n",
    "+P(R|MBU)*P(M)*P(!B)*P(!U)+P(R|MBU)*P(!M)*P(B)*P(U)+P(R|MBU)*P(!M)*P(B)*P(!U)\n",
    "+P(R|MBU)*P(!M)*P(!B)*P(U)+P(R|MBU)*P(!M)*P(!B)*P(!U) --- [Using total probability theorem as R depends on M, B, U]\n",
    "=0.95*0.05*0.1*0.15+0.9*0.05*0.1*0.85+0.85*0.05*0.9*0.15\n",
    "+0.76*0.05*0.9*0.85+0.18*0.95*0.1*0.15+0.06*0.95*0.1*0.85\n",
    "+0.14*0.95*0.9*0.15+0.04*0.95*0.9*0.85\n",
    "=0.09378\n",
    "```"
   ]
  },
  {
   "cell_type": "markdown",
   "metadata": {},
   "source": [
    "Using pgmpy library:"
   ]
  },
  {
   "cell_type": "code",
   "execution_count": 29,
   "metadata": {},
   "outputs": [
    {
     "name": "stdout",
     "output_type": "stream",
     "text": [
      "R 0.09378000000000002\n"
     ]
    }
   ],
   "source": [
    "result = solver.query(variables=['R'])\n",
    "print(\"R\", result['R'].values[1])"
   ]
  },
  {
   "cell_type": "markdown",
   "metadata": {},
   "source": [
    "2. Lets find probability of \"Content should be removed from platform given our ML model flags it\""
   ]
  },
  {
   "cell_type": "markdown",
   "metadata": {},
   "source": [
    "````\n",
    "P(R|A) \n",
    "= P(R|AHU) * P(H) * P(U) + P (R|AH!U) * P(H) *P(!U) + P(R|A!HU) \n",
    "* P(!H) * P(U)+ P(R|A!H!U) * P(!H) * P(!U)                      -------- [ Using Total Probability theorem ]\n",
    "=0.95*0.1*0.15 + 0.9*0.1*0.85 +0.85*0.9*0.15 + 0.76*0.9*0.85\n",
    "=0.7869\n",
    "````"
   ]
  },
  {
   "cell_type": "markdown",
   "metadata": {},
   "source": [
    "Now, Using pgmpy libary:"
   ]
  },
  {
   "cell_type": "code",
   "execution_count": 31,
   "metadata": {},
   "outputs": [
    {
     "name": "stdout",
     "output_type": "stream",
     "text": [
      "R| M 0.7869\n"
     ]
    }
   ],
   "source": [
    "result = solver.query(variables=['R'], evidence={'M': 1})\n",
    "print(\"R| M\", result['R'].values[1])\n"
   ]
  },
  {
   "cell_type": "markdown",
   "metadata": {},
   "source": [
    "Pgmpy can also find complex proability inference considering dependent and independent variable considering something is given.\n",
    "For example, we can find \"Account should be suspended given it was suspened before\""
   ]
  },
  {
   "cell_type": "code",
   "execution_count": 32,
   "metadata": {},
   "outputs": [
    {
     "name": "stdout",
     "output_type": "stream",
     "text": [
      "S| B 0.15345299999999998\n"
     ]
    }
   ],
   "source": [
    "result = solver.query(variables=['S'], evidence={'B': 1})\n",
    "print(\"S| B\", result['S'].values[1])"
   ]
  },
  {
   "cell_type": "markdown",
   "metadata": {},
   "source": [
    "Model has other features such as it can also find dependencies between the variables. Example:"
   ]
  },
  {
   "cell_type": "code",
   "execution_count": 33,
   "metadata": {},
   "outputs": [
    {
     "data": {
      "text/plain": [
       "(M _|_ U, B)\n",
       "(M _|_ B | U)\n",
       "(M _|_ U | B)\n",
       "(M _|_ S | B, R)\n",
       "(M _|_ S | U, B, R)\n",
       "(U _|_ M, B)\n",
       "(U _|_ B | M)\n",
       "(U _|_ M | B)\n",
       "(U _|_ S | B, R)\n",
       "(U _|_ S | M, B, R)\n",
       "(B _|_ M, U)\n",
       "(B _|_ U | M)\n",
       "(B _|_ M | U)\n",
       "(S _|_ M, U | B, R)\n",
       "(S _|_ U | M, B, R)\n",
       "(S _|_ M | U, B, R)"
      ]
     },
     "execution_count": 33,
     "metadata": {},
     "output_type": "execute_result"
    }
   ],
   "source": [
    "bayesNet.get_independencies()"
   ]
  },
  {
   "cell_type": "code",
   "execution_count": 34,
   "metadata": {},
   "outputs": [
    {
     "name": "stdout",
     "output_type": "stream",
     "text": [
      "Completed.\n"
     ]
    }
   ],
   "source": [
    "print(\"Completed.\")\n"
   ]
  }
 ],
 "metadata": {
  "kernelspec": {
   "display_name": "Python 3",
   "language": "python",
   "name": "python3"
  },
  "language_info": {
   "codemirror_mode": {
    "name": "ipython",
    "version": 3
   },
   "file_extension": ".py",
   "mimetype": "text/x-python",
   "name": "python",
   "nbconvert_exporter": "python",
   "pygments_lexer": "ipython3",
   "version": "3.7.3"
  }
 },
 "nbformat": 4,
 "nbformat_minor": 2
}
